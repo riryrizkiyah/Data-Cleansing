{
  "cells": [
    {
      "cell_type": "code",
      "execution_count": null,
      "id": "d71975cc",
      "metadata": {
        "id": "d71975cc"
      },
      "outputs": [],
      "source": [
        "import pandas as pd\n",
        "import numpy as np\n",
        "import matplotlib.pyplot as plt\n",
        "import seaborn as sns"
      ]
    },
    {
      "cell_type": "markdown",
      "id": "40fbabb2",
      "metadata": {
        "id": "40fbabb2"
      },
      "source": [
        "### Import Data"
      ]
    },
    {
      "cell_type": "code",
      "execution_count": null,
      "id": "bdc8046b",
      "metadata": {
        "id": "bdc8046b"
      },
      "outputs": [],
      "source": [
        "df = pd.read_csv('diamonds_hw.csv')"
      ]
    },
    {
      "cell_type": "markdown",
      "id": "2b12f321",
      "metadata": {
        "id": "2b12f321"
      },
      "source": [
        "Kolom-kolom dari dataset 'diamonds.csv' memiliki definisi sebagai berikut:\n",
        "\n",
        "*   List item\n",
        "*   List item\n",
        "\n",
        "\n",
        "- price: price in US dollars ($326--$18,823)\n",
        "- carat: weight of the diamond (0.2--5.01)\n",
        "- cut: quality of the cut (Fair, Good, Very Good, Premium, Ideal)\n",
        "- color: diamond colour, from J (worst) to D (best)\n",
        "- clarity: a measurement of how clear the diamond is (I1 (worst), SI2, SI1, VS2, VS1, VVS2, VVS1, IF (best))\n",
        "- x: length in mm \n",
        "- y: width in mm \n",
        "- z: depth in mm \n",
        "- depth: total depth percentage = z / mean(x, y) = 2 * z / (x + y) \n",
        "- table: width of top of diamond relative to widest point\n"
      ]
    },
    {
      "cell_type": "markdown",
      "id": "f19a0ce2",
      "metadata": {
        "id": "f19a0ce2"
      },
      "source": [
        "### Soal:\n",
        "\n",
        "1. Terdapat beberapa kolom yang mengalami missing value. Tentukan metode terbaik untuk mengisi missing value pada kolom tersebut. Terapkan metode tersebut, dan berikan argumen Anda! (Tuliskan, \"saya memilih metode __ untuk mengisi missing value pada kolom __ karena ___). \n",
        "\n",
        "2. Berdasarkan informasi terkait kolom `clarity`, lakukanlah encoding yang sesuai (ubahlah kolom `clarity` dari kategorikal menjadi numerik). \n",
        "\n",
        "2. Buatlah visualisasi boxplot untuk memeriksa distribusi pada kolom-kolom 'x', 'y', dan 'z'. Apakah ada data-data yang outlier? Jika ya, apa saja outlier yang muncul? Berapa banyak baris yang mengalami outlier?"
      ]
    },
    {
      "cell_type": "markdown",
      "id": "14081fdf",
      "metadata": {
        "id": "14081fdf"
      },
      "source": [
        "#### Nomor 1:"
      ]
    },
    {
      "cell_type": "code",
      "execution_count": null,
      "id": "f30ba56b",
      "metadata": {
        "id": "f30ba56b"
      },
      "outputs": [],
      "source": []
    },
    {
      "cell_type": "code",
      "execution_count": null,
      "id": "e39290c9",
      "metadata": {
        "id": "e39290c9"
      },
      "outputs": [],
      "source": []
    },
    {
      "cell_type": "markdown",
      "id": "94102700",
      "metadata": {
        "id": "94102700"
      },
      "source": [
        "Saya memilih metode __ untuk mengisi missing value pada kolom __ karena __"
      ]
    },
    {
      "cell_type": "markdown",
      "id": "d5f3b7bc",
      "metadata": {
        "id": "d5f3b7bc"
      },
      "source": [
        "#### Nomor 2:"
      ]
    },
    {
      "cell_type": "code",
      "execution_count": null,
      "id": "d7a20929",
      "metadata": {
        "id": "d7a20929"
      },
      "outputs": [],
      "source": []
    },
    {
      "cell_type": "code",
      "execution_count": null,
      "id": "d486453f",
      "metadata": {
        "id": "d486453f"
      },
      "outputs": [],
      "source": []
    },
    {
      "cell_type": "code",
      "execution_count": null,
      "id": "aa0ec5e9",
      "metadata": {
        "id": "aa0ec5e9"
      },
      "outputs": [],
      "source": []
    },
    {
      "cell_type": "markdown",
      "id": "ffe32772",
      "metadata": {
        "id": "ffe32772"
      },
      "source": [
        "#### Nomor 3:"
      ]
    },
    {
      "cell_type": "code",
      "execution_count": null,
      "id": "a1e48035",
      "metadata": {
        "id": "a1e48035"
      },
      "outputs": [],
      "source": []
    },
    {
      "cell_type": "code",
      "execution_count": null,
      "id": "7657e542",
      "metadata": {
        "id": "7657e542"
      },
      "outputs": [],
      "source": []
    },
    {
      "cell_type": "code",
      "execution_count": null,
      "id": "9f0df741",
      "metadata": {
        "id": "9f0df741"
      },
      "outputs": [],
      "source": []
    },
    {
      "cell_type": "code",
      "execution_count": null,
      "id": "7ea4b5d8",
      "metadata": {
        "id": "7ea4b5d8"
      },
      "outputs": [],
      "source": []
    },
    {
      "cell_type": "code",
      "execution_count": null,
      "id": "028473d9",
      "metadata": {
        "id": "028473d9"
      },
      "outputs": [],
      "source": []
    }
  ],
  "metadata": {
    "kernelspec": {
      "display_name": "Python 3",
      "language": "python",
      "name": "python3"
    },
    "language_info": {
      "codemirror_mode": {
        "name": "ipython",
        "version": 3
      },
      "file_extension": ".py",
      "mimetype": "text/x-python",
      "name": "python",
      "nbconvert_exporter": "python",
      "pygments_lexer": "ipython3",
      "version": "3.7.0"
    },
    "colab": {
      "provenance": []
    }
  },
  "nbformat": 4,
  "nbformat_minor": 5
}